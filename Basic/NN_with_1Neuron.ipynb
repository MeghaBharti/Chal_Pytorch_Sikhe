{
  "nbformat": 4,
  "nbformat_minor": 0,
  "metadata": {
    "colab": {
      "provenance": [],
      "authorship_tag": "ABX9TyNlqURkfxuU21IamnTIenxe",
      "include_colab_link": true
    },
    "kernelspec": {
      "name": "python3",
      "display_name": "Python 3"
    },
    "language_info": {
      "name": "python"
    }
  },
  "cells": [
    {
      "cell_type": "markdown",
      "metadata": {
        "id": "view-in-github",
        "colab_type": "text"
      },
      "source": [
        "<a href=\"https://colab.research.google.com/github/MeghaBharti/Chal_Pytorch_Sikhe/blob/main/Basic/NN_with_1Neuron.ipynb\" target=\"_parent\"><img src=\"https://colab.research.google.com/assets/colab-badge.svg\" alt=\"Open In Colab\"/></a>"
      ]
    },
    {
      "cell_type": "markdown",
      "source": [
        "# 📌 Single Neuron Neural Network\n",
        "\n",
        "## 🔹 1️⃣ Introduction\n",
        "A **single neuron** is the simplest unit of a neural network. It performs a **linear transformation** on an input:\n",
        "\n",
        "\\[\n",
        "y = wx + b\n",
        "\\]\n",
        "\n",
        "where:\n",
        "- \\( w \\) = weight (trainable parameter)\n",
        "- \\( b \\) = bias (trainable parameter)\n",
        "- \\( x \\) = input\n",
        "- \\( y \\) = output (prediction)\n",
        "\n",
        "The goal of training is to adjust \\( w \\) and \\( b \\) so that the model correctly maps inputs to outputs.\n",
        "\n",
        "---\n",
        "\n",
        "## 🔹 2️⃣ Understanding the Equation \\( y = 2x + 3 \\)\n",
        "In this case, the **target function** is:\n",
        "\n",
        "\\[\n",
        "y = 2x + 3\n",
        "\\]\n",
        "\n",
        "This means:\n",
        "- The **weight \\( w \\)** is **2**.\n",
        "- The **bias \\( b \\)** is **3**.\n",
        "- For any given \\( x \\), the model should predict \\( y \\) accordingly.\n",
        "\n",
        "---\n",
        "\n",
        "## 🔹 3️⃣ How the Neuron Learns\n",
        "Neural networks learn by **adjusting \\( w \\) and \\( b \\)** through training.\n",
        "\n",
        "### 🔸 Training Process:\n",
        "1. **Initialize** \\( w \\) and \\( b \\) randomly.\n",
        "2. **Make Predictions** using \\( y' = wx + b \\).\n",
        "3. **Compute Loss** (Difference between predicted \\( y' \\) and actual \\( y \\)).\n",
        "4. **Compute Gradients** to determine how \\( w \\) and \\( b \\) should change.\n",
        "5. **Update Parameters** using gradient descent.\n",
        "6. **Repeat Until Convergence** (until loss is minimized).\n",
        "\n",
        "---\n",
        "\n",
        "## 🔹 4️⃣ Loss Function\n",
        "The **loss function** measures how far the predictions are from the actual values.\n",
        "\n",
        "A common choice is **Mean Squared Error (MSE)**:\n",
        "\n",
        "---\n",
        "\n",
        "## 🔹 5️⃣ Optimization with Gradient Descent\n",
        "To minimize loss, we use **gradient descent**:\n",
        "- Compute **derivatives** of the loss function with respect to \\( w \\) and \\( b \\).\n",
        "- Update \\( w \\) and \\( b \\) in the **direction of negative gradient**.\n",
        "\n",
        "---\n",
        "\n",
        "## 🔹 6️⃣ Training the Neuron\n",
        "Given **training data**:\n",
        "- **Inputs**: \\( x = [1, 2, 3, 4] \\)\n",
        "- **Targets**: \\( y = [5, 7, 9, 11] \\)\n",
        "\n",
        "The neuron starts with **random values for \\( w \\) and \\( b \\)** and updates them iteratively to minimize error.\n",
        "\n",
        "---\n",
        "\n",
        "## 🔹 7️⃣ Final Thoughts\n",
        "✅ A **single neuron** models a **linear function**.  \n",
        "✅ It learns by **adjusting \\( w \\) and \\( b \\)** using gradient descent.  \n",
        "✅ The goal is to minimize the **loss function**.  \n",
        "✅ After training, the neuron should approximate \\( y = 2x + 3 \\) accurately.  \n",
        "\n",
        "---\n",
        "\n"
      ],
      "metadata": {
        "id": "ulr2wtnHiJDC"
      }
    },
    {
      "cell_type": "code",
      "execution_count": 1,
      "metadata": {
        "colab": {
          "base_uri": "https://localhost:8080/"
        },
        "id": "vIoXmOOneWe6",
        "outputId": "bd25711c-6ae2-4f7c-d0f7-48354000a023"
      },
      "outputs": [
        {
          "output_type": "stream",
          "name": "stdout",
          "text": [
            "SingleNeuron(\n",
            "  (linear): Linear(in_features=1, out_features=1, bias=True)\n",
            ")\n"
          ]
        }
      ],
      "source": [
        "import torch\n",
        "import torch.nn as nn\n",
        "import torch.optim as optim\n",
        "\n",
        "class SingleNeuron(nn.Module):\n",
        "  def __init__(self):\n",
        "    super(SingleNeuron, self).__init__()\n",
        "    self.linear=nn.Linear(1,1)\n",
        "\n",
        "  def forward(self,x):\n",
        "    return self.linear(x)\n",
        "\n",
        "model=SingleNeuron()\n",
        "print(model)\n"
      ]
    },
    {
      "cell_type": "code",
      "source": [
        "input=torch.tensor([1.0])\n",
        "output=model(input)\n",
        "print(output)"
      ],
      "metadata": {
        "colab": {
          "base_uri": "https://localhost:8080/"
        },
        "id": "zqovnskJfmq4",
        "outputId": "b206b832-9f29-4b9c-dbee-1c6d35fde5fc"
      },
      "execution_count": 2,
      "outputs": [
        {
          "output_type": "stream",
          "name": "stdout",
          "text": [
            "tensor([-0.1975], grad_fn=<ViewBackward0>)\n"
          ]
        }
      ]
    },
    {
      "cell_type": "code",
      "source": [
        "inputs = torch.tensor([[1.0], [2.0], [3.0], [4.0]])\n",
        "targets = torch.tensor([[5.0], [7.0], [9.0], [11.0]])  # y = 2x + 3\n",
        "\n",
        "# Define loss function and optimizer\n",
        "criterion = nn.MSELoss()\n",
        "optimizer = optim.SGD(model.parameters(), lr=0.01)  # Small learning rate\n",
        "\n",
        "# Training loop\n",
        "num_epochs = 100\n",
        "\n",
        "for epoch in range(num_epochs):\n",
        "    # Forward pass\n",
        "    outputs = model(inputs)\n",
        "    loss = criterion(outputs, targets)\n",
        "\n",
        "    # Backward pass (compute gradients)\n",
        "    optimizer.zero_grad()  # Reset gradients\n",
        "    loss.backward()  # Compute gradients\n",
        "    optimizer.step()  # Update weights\n",
        "\n",
        "    if (epoch + 1) % 10 == 0:\n",
        "        print(f\"Epoch [{epoch+1}/{num_epochs}], Loss: {loss.item():.4f}\")\n"
      ],
      "metadata": {
        "colab": {
          "base_uri": "https://localhost:8080/"
        },
        "id": "op-g1Lx2f8hT",
        "outputId": "af0066cd-c275-43f1-b92a-263ea908eab8"
      },
      "execution_count": 8,
      "outputs": [
        {
          "output_type": "stream",
          "name": "stdout",
          "text": [
            "Epoch [10/100], Loss: 0.0393\n",
            "Epoch [20/100], Loss: 0.0370\n",
            "Epoch [30/100], Loss: 0.0349\n",
            "Epoch [40/100], Loss: 0.0328\n",
            "Epoch [50/100], Loss: 0.0309\n",
            "Epoch [60/100], Loss: 0.0291\n",
            "Epoch [70/100], Loss: 0.0274\n",
            "Epoch [80/100], Loss: 0.0258\n",
            "Epoch [90/100], Loss: 0.0243\n",
            "Epoch [100/100], Loss: 0.0229\n"
          ]
        }
      ]
    },
    {
      "cell_type": "code",
      "source": [
        "new_input = torch.tensor([[8.0]])\n",
        "predicted_output = model(new_input)\n",
        "print(f\"Predicted output for input {new_input.item()}: {predicted_output.item()}\")"
      ],
      "metadata": {
        "colab": {
          "base_uri": "https://localhost:8080/"
        },
        "id": "iktH78F2gees",
        "outputId": "b0b93971-36d3-4fb0-e3cf-c29afa8d1582"
      },
      "execution_count": 10,
      "outputs": [
        {
          "output_type": "stream",
          "name": "stdout",
          "text": [
            "Predicted output for input 8.0: 19.635469436645508\n"
          ]
        }
      ]
    },
    {
      "cell_type": "code",
      "source": [],
      "metadata": {
        "id": "CpDKroknhDZ2"
      },
      "execution_count": null,
      "outputs": []
    }
  ]
}