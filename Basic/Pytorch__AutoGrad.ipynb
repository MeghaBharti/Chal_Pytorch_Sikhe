{
  "nbformat": 4,
  "nbformat_minor": 0,
  "metadata": {
    "colab": {
      "provenance": [],
      "authorship_tag": "ABX9TyNCIamNt4hkUfhVpzJDzRKB",
      "include_colab_link": true
    },
    "kernelspec": {
      "name": "python3",
      "display_name": "Python 3"
    },
    "language_info": {
      "name": "python"
    }
  },
  "cells": [
    {
      "cell_type": "markdown",
      "metadata": {
        "id": "view-in-github",
        "colab_type": "text"
      },
      "source": [
        "<a href=\"https://colab.research.google.com/github/MeghaBharti/Chal_Pytorch_Sikhe/blob/main/Basic/Pytorch__AutoGrad.ipynb\" target=\"_parent\"><img src=\"https://colab.research.google.com/assets/colab-badge.svg\" alt=\"Open In Colab\"/></a>"
      ]
    },
    {
      "cell_type": "markdown",
      "source": [
        "# PyTorch Autograd Example: Gradient Accumulation\n",
        "\n",
        "## 🔹 Introduction\n",
        "PyTorch's autograd system automatically computes gradients using **backpropagation**.  \n",
        "This experiment demonstrates **gradient accumulation** and how to reset gradients using `zero_()`.\n"
      ],
      "metadata": {
        "id": "m-E1FTntaqrJ"
      }
    },
    {
      "cell_type": "code",
      "execution_count": 6,
      "metadata": {
        "colab": {
          "base_uri": "https://localhost:8080/"
        },
        "id": "ePOwgHgqWSQz",
        "outputId": "9a76825a-2735-472b-e70e-5d33fce8e107"
      },
      "outputs": [
        {
          "output_type": "stream",
          "name": "stdout",
          "text": [
            "Gradient after y.backward(): tensor(12.)\n",
            "Gradient after z.backward(): tensor(192.)\n"
          ]
        }
      ],
      "source": [
        "import torch\n",
        "\n",
        "x = torch.tensor(2.0, requires_grad=True)\n",
        "\n",
        "y = x**3\n",
        "z = y**2\n",
        "\n",
        "y.backward(retain_graph=True)\n",
        "print(\"Gradient after y.backward():\", x.grad)  # 12\n",
        "\n",
        "x.grad.zero_()  # Reset gradients\n",
        "\n",
        "z.backward()\n",
        "print(\"Gradient after z.backward():\", x.grad)  # 192\n",
        "\n",
        "\n",
        "# Reset gradients\n",
        "#x.grad.zero_()"
      ]
    },
    {
      "cell_type": "code",
      "source": [],
      "metadata": {
        "id": "9P9H8_9gamKI"
      },
      "execution_count": null,
      "outputs": []
    }
  ]
}